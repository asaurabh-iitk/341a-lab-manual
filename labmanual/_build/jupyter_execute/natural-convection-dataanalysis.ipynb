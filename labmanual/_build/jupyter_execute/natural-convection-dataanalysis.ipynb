{
 "cells": [
  {
   "cell_type": "markdown",
   "metadata": {},
   "source": [
    "# Data analysis\n",
    "\n",
    "Analysis of data is conducted using python, specifically with the [pandas](https://pandas.pydata.org/pandas-docs/stable/reference/api/pandas.DataFrame.head.html) dataframe here. Units are applied to numerical values with the help of [pint](https://pint.readthedocs.io/en/stable/index.html)."
   ]
  },
  {
   "cell_type": "markdown",
   "metadata": {},
   "source": [
    "## Heat transfer coefficient\n",
    "\n",
    "As per Newton's law of cooling, $\\dot{q}'' = h\\Delta T$, we can get $h$ (W/m{sup}`2`-K) given $T_\\infty$ and $\\dot{q}''$. At steady state, convective heat loss from the cylinder is equal to the heat input from the heater -- **45 W** for this data set. The length and diameter of the cylinder are 50 cm and 3.8 cm respectively.\n",
    "\n",
    "$T_\\infty$ was measured to be **31{sup}`o`C** for this data set."
   ]
  },
  {
   "cell_type": "code",
   "execution_count": 1,
   "metadata": {},
   "outputs": [],
   "source": [
    "# packages required for analysing data\n",
    "import pandas as pd, math\n",
    "from pint import UnitRegistry\n",
    "# setting unit configuration\n",
    "unit = UnitRegistry(autoconvert_offset_to_baseunit = True)\n",
    "\n",
    "# thermocouple data\n",
    "tcdata = pd.read_csv('data/nat-conv-T.csv')\n",
    "# last data (indexed as [-1]) tcdata csv file is ambient temperature\n",
    "tcAmb = tcdata['Temperature (C)'].iloc[-1] * unit.degC\n",
    "tcdata.head(n=8)\n",
    "\n",
    "# other experiment settings\n",
    "cylD = 0.038 * unit.m\n",
    "cylL = 0.50 * unit.m\n",
    "Qtot = 45 * unit.watt"
   ]
  },
  {
   "cell_type": "code",
   "execution_count": 2,
   "metadata": {},
   "outputs": [
    {
     "name": "stdout",
     "output_type": "stream",
     "text": [
      "38.1 °C\n"
     ]
    }
   ],
   "source": [
    "# Surface temperature in Newtons law taken as average of all surface TCs\n",
    "meanTs = (tcdata['Temperature (C)'][0:-1].mean() ) * unit.degC\n",
    "print(\"{:.1f~P}\".format(meanTs))"
   ]
  },
  {
   "cell_type": "code",
   "execution_count": 3,
   "metadata": {},
   "outputs": [
    {
     "name": "stdout",
     "output_type": "stream",
     "text": [
      "7.5×10² W/m²\n"
     ]
    }
   ],
   "source": [
    "# Heat flux assuming uniformly distributed heater\n",
    "fluxQ = Qtot/( (math.pi) * cylD * cylL)\n",
    "print(\"{:.1e~P}\".format(fluxQ))"
   ]
  },
  {
   "cell_type": "code",
   "execution_count": 4,
   "metadata": {},
   "outputs": [
    {
     "name": "stdout",
     "output_type": "stream",
     "text": [
      "1.1×10² W/K/m²\n"
     ]
    }
   ],
   "source": [
    "# The corresponding convective heat transfer coefficient\n",
    "h = ( fluxQ/(meanTs - tcAmb).to_base_units() )  # to base units to convert to absolute in Kelvin\n",
    "print(\"{:.1e~P}\".format(h)) # Note the number of significant digits cannot be more than 2"
   ]
  }
 ],
 "metadata": {
  "kernelspec": {
   "display_name": "341a-lab-manual-dxDIHkWg-py3.12",
   "language": "python",
   "name": "python3"
  },
  "language_info": {
   "codemirror_mode": {
    "name": "ipython",
    "version": 3
   },
   "file_extension": ".py",
   "mimetype": "text/x-python",
   "name": "python",
   "nbconvert_exporter": "python",
   "pygments_lexer": "ipython3",
   "version": "3.12.1"
  }
 },
 "nbformat": 4,
 "nbformat_minor": 2
}